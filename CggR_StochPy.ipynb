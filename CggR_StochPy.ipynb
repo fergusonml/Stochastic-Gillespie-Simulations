{
 "cells": [
  {
   "cell_type": "markdown",
   "metadata": {},
   "source": [
    "# CggR\n",
    "Simulation using StochPy, with model and numbers taken from:\n",
    "\n",
    "Ferguson ML, Le Coq D, Jules M, Aymerich S, Radulescu O, Declerck N, et al. Reconciling molecular regulatory mechanisms with noise patterns of bacterial metabolic promoters in induced and repressed states. Proc Natl Acad Sci U S A. 2012."
   ]
  },
  {
   "cell_type": "markdown",
   "metadata": {},
   "source": [
    "![image1.png](image1.png)\n",
    "![image2.png](image2.png)"
   ]
  },
  {
   "cell_type": "code",
   "execution_count": 1,
   "metadata": {},
   "outputs": [
    {
     "name": "stdout",
     "output_type": "stream",
     "text": [
      "cat: /Users/mattferguson/Downloads/StochPy-2.3/stochpy/pscmodels/CggR_glucose.py: No such file or directory\r\n"
     ]
    }
   ],
   "source": [
    "!cat /Users/mattferguson/Downloads/StochPy-2.3/stochpy/pscmodels/CggR_glucose.py"
   ]
  },
  {
   "cell_type": "code",
   "execution_count": 2,
   "metadata": {
    "collapsed": true
   },
   "outputs": [],
   "source": [
    "def doSequentialSim(smod,n_generations,cell_division_times):    \n",
    "    for i in range(1,n_generations):     \n",
    "        ### divide each species between two daughter cells ###        \n",
    "        for j in range(0,len(smod.data_stochsim.species_labels)): \n",
    "            species_amount = smod.SSA.sim_output[-2][1:][j]                 \n",
    "            if species_amount:\n",
    "                smod.settings.X_matrix[j] = np.random.binomial(n=species_amount\n",
    "                                                               ,p=0.5,size=1)                \n",
    "        ### replace last time point with species amounts after division ###\n",
    "        species_after_division = copy.deepcopy(list(smod.settings.X_matrix))\n",
    "        species_after_division.insert(0,cell_division_times[0:i].sum())\n",
    "        species_after_division.append(np.NAN) # no reaction occurred at cell division\n",
    "        smod.SSA.sim_output[-1] = copy.deepcopy(species_after_division)                         \n",
    "        ### Set settings for new simulation and simulate the next generation ### \n",
    "        smod.settings.starttime = copy.deepcopy(smod.SSA.sim_output[-1][0])\n",
    "        smod.settings.endtime = smod.settings.starttime + cell_division_times[i]\n",
    "        smod.SSA.Execute(smod.settings,False) # do stochastic simulation\n",
    "        \n",
    "    smod.FillDataStochsim() # add all data to data_stochsim object"
   ]
  },
  {
   "cell_type": "code",
   "execution_count": 3,
   "metadata": {},
   "outputs": [
    {
     "name": "stdout",
     "output_type": "stream",
     "text": [
      "\n",
      "#######################################################################\n",
      "#                                                                     #\n",
      "#            Welcome to the interactive StochPy environment           #\n",
      "#                                                                     #\n",
      "#######################################################################\n",
      "#  StochPy: Stochastic modeling in Python                             #\n",
      "#  http://stochpy.sourceforge.net                                     #\n",
      "#  Copyright(C) T.R Maarleveld, B.G. Olivier, F.J Bruggeman 2010-2015 #\n",
      "#  DOI: 10.1371/journal.pone.0079345                                  #\n",
      "#  Email: tmd200@users.sourceforge.net                                #\n",
      "#  VU University, Amsterdam, Netherlands                              #\n",
      "#  Centrum Wiskunde Informatica, Amsterdam, Netherlands               #\n",
      "#  StochPy is distributed under the BSD licence.                      #\n",
      "#######################################################################\n",
      "\n",
      "Version 2.3.0\n",
      "Output Directory: /Users/mattferguson/Stochpy\n",
      "Model Directory: /Users/mattferguson/Stochpy/pscmodels\n",
      "Assuming extension is .psc\n",
      "*** File does not exist ***\n"
     ]
    },
    {
     "ename": "SystemExit",
     "evalue": "",
     "output_type": "error",
     "traceback": [
      "An exception has occurred, use %tb to see the full traceback.\n",
      "\u001b[0;31mSystemExit\u001b[0m\n"
     ]
    },
    {
     "name": "stderr",
     "output_type": "stream",
     "text": [
      "/anaconda/lib/python2.7/site-packages/IPython/core/interactiveshell.py:2889: UserWarning: To exit: use 'exit', 'quit', or Ctrl-D.\n",
      "  warn(\"To exit: use 'exit', 'quit', or Ctrl-D.\", stacklevel=1)\n"
     ]
    }
   ],
   "source": [
    "import stochpy, numpy as np,copy,os,matplotlib.gridspec as gridspec\n",
    "smod = stochpy.SSA()\n",
    "smod.Model('CggR_glucose.py',dir=os.getcwd())\n",
    "T_GENERATION = 60"
   ]
  },
  {
   "cell_type": "markdown",
   "metadata": {},
   "source": [
    "### 1: Do short simulations for a time series plot ###"
   ]
  },
  {
   "cell_type": "raw",
   "metadata": {},
   "source": [
    "N_GENERATIONS = 10\n",
    "CELL_DIVISION_TIMES = abs(np.random.gamma(T_GENERATION,1,size=N_GENERATIONS)) \n",
    "smod.DoStochSim(end=CELL_DIVISION_TIMES[0],mode='time',trajectories=1)\n",
    "doSequentialSim(smod,N_GENERATIONS,CELL_DIVISION_TIMES)\n",
    "smod.PlotSpeciesTimeSeries(species2plot=['Protein'])"
   ]
  },
  {
   "cell_type": "markdown",
   "metadata": {},
   "source": [
    "### 2: Do long simulation for probability density function of protein copy numbers ###"
   ]
  },
  {
   "cell_type": "code",
   "execution_count": null,
   "metadata": {
    "collapsed": true
   },
   "outputs": [],
   "source": [
    "N_GENERATIONS = 2500\n",
    "CELL_DIVISION_TIMES = abs(np.random.gamma(T_GENERATION,1,size=N_GENERATIONS))\n",
    "smod.DoStochSim(end=CELL_DIVISION_TIMES[0],mode='time',trajectories=1)\n",
    "doSequentialSim(smod,N_GENERATIONS,CELL_DIVISION_TIMES)\n",
    "smod.PlotSpeciesDistributions(species2plot='Protein',colors =  ['red'])"
   ]
  }
 ],
 "metadata": {
  "kernelspec": {
   "display_name": "Python 2",
   "language": "python",
   "name": "python2"
  },
  "language_info": {
   "codemirror_mode": {
    "name": "ipython",
    "version": 2
   },
   "file_extension": ".py",
   "mimetype": "text/x-python",
   "name": "python",
   "nbconvert_exporter": "python",
   "pygments_lexer": "ipython2",
   "version": "2.7.14"
  }
 },
 "nbformat": 4,
 "nbformat_minor": 2
}
